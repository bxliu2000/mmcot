{
 "cells": [
  {
   "cell_type": "markdown",
   "id": "4e2ffc57",
   "metadata": {},
   "source": [
    "## TODOS\n",
    "- Read the T5 paper\n",
    "- Read the DETR paper\n",
    "- Create this mixed model with sigmoid gating mechanism"
   ]
  },
  {
   "cell_type": "markdown",
   "id": "3a54a123",
   "metadata": {},
   "source": [
    "## T5 Paper Notes\n",
    "\n",
    "- No major variations on architecture relative to the og transformer paper. \n",
    "- Cleaned up Common Crawl's extracted text -> colossal clean crawled corpus C4 for short. Note that C4 is english-only, and that may have some limitations on emergent abilities of the model. I don't have a paper here but I'm fairly certain that there is evidence to suggest that models trained on multiple languages + even code have better reasoning capabilities. \n",
    "- Cast all objectives as text only format. Or, in other words, they append a task-specific prefix into the prompt of specific types of tasks and try to train over that. \n",
    "\n",
    "\" To summarize, our model is roughly equivalent to the original Transformer proposed by Vaswani et al. (20-17) with the exception of removing the Layer Norm bias, placing the layer normalization outside the residual path, and using a different position embedding scheme. \"\n",
    "\n",
    "\n"
   ]
  },
  {
   "cell_type": "markdown",
   "id": "3b164669",
   "metadata": {},
   "source": [
    "## DETR Paper Notes\n",
    "- Basically just stuck a transformer to the end of a resnet. Did some ablation tests, but ntothing super interesting. \n",
    "- Seems like this hungarian algorithm for computing optimal bipartite matching is core in the algorithm, but that is also a concept borrowed from previous work. Basically jointly computes a loss and learns the class prediction + bounding box at the same time. "
   ]
  },
  {
   "cell_type": "code",
   "execution_count": 1,
   "id": "953c41d4",
   "metadata": {},
   "outputs": [
    {
     "name": "stderr",
     "output_type": "stream",
     "text": [
      "/home/bxliu2000/.local/lib/python3.10/site-packages/tqdm/auto.py:21: TqdmWarning: IProgress not found. Please update jupyter and ipywidgets. See https://ipywidgets.readthedocs.io/en/stable/user_install.html\n",
      "  from .autonotebook import tqdm as notebook_tqdm\n"
     ]
    }
   ],
   "source": [
    "from transformers import T5Tokenizer, T5Model, T5ForConditionalGeneration\n",
    "from transformers import DetrModel, DetrImageProcessor\n",
    "import torch\n",
    "import inspect\n",
    "from datasets import load_dataset\n",
    "\n",
    "device = torch.device(\"cuda\")"
   ]
  },
  {
   "cell_type": "code",
   "execution_count": 2,
   "id": "de25cb1c",
   "metadata": {},
   "outputs": [
    {
     "name": "stderr",
     "output_type": "stream",
     "text": [
      "/home/bxliu2000/.local/lib/python3.10/site-packages/transformers/models/t5/tokenization_t5.py:163: FutureWarning: This tokenizer was incorrectly instantiated with a model max length of 512 which will be corrected in Transformers v5.\n",
      "For now, this behavior is kept to avoid breaking backwards compatibility when padding/encoding with `truncation is True`.\n",
      "- Be aware that you SHOULD NOT rely on t5-base automatically truncating your input to 512 when padding/encoding.\n",
      "- If you want to encode/pad to sequences longer than 512 you can either instantiate this tokenizer with `model_max_length` or pass `max_length` when encoding/padding.\n",
      "- To avoid this warning, please instantiate this tokenizer with `model_max_length` set to your preferred value.\n",
      "  warnings.warn(\n",
      "/home/bxliu2000/.local/lib/python3.10/site-packages/transformers/models/detr/image_processing_detr.py:776: FutureWarning: The `max_size` parameter is deprecated and will be removed in v4.26. Please specify in `size['longest_edge'] instead`.\n",
      "  warnings.warn(\n",
      "Some weights of the model checkpoint at facebook/detr-resnet-50 were not used when initializing DetrModel: ['class_labels_classifier.weight', 'bbox_predictor.layers.1.weight', 'bbox_predictor.layers.2.weight', 'bbox_predictor.layers.0.bias', 'bbox_predictor.layers.0.weight', 'class_labels_classifier.bias', 'bbox_predictor.layers.2.bias', 'bbox_predictor.layers.1.bias']\n",
      "- This IS expected if you are initializing DetrModel from the checkpoint of a model trained on another task or with another architecture (e.g. initializing a BertForSequenceClassification model from a BertForPreTraining model).\n",
      "- This IS NOT expected if you are initializing DetrModel from the checkpoint of a model that you expect to be exactly identical (initializing a BertForSequenceClassification model from a BertForSequenceClassification model).\n"
     ]
    }
   ],
   "source": [
    "## Language Model\n",
    "lang_model_id = \"t5-base\"\n",
    "tokenizer = T5Tokenizer.from_pretrained(lang_model_id)\n",
    "lang_model = T5Model.from_pretrained(lang_model_id)\n",
    "\n",
    "## Vision Model\n",
    "vis_model_id = \"facebook/detr-resnet-50\"\n",
    "processor = DetrImageProcessor.from_pretrained(vis_model_id)\n",
    "vis_model = DetrModel.from_pretrained(vis_model_id)"
   ]
  },
  {
   "cell_type": "code",
   "execution_count": null,
   "id": "b0445c2d",
   "metadata": {},
   "outputs": [],
   "source": [
    "# Testing shape of last activation for language model\n",
    "input_ids = tokenizer(['a' * 513 for _ in range(5)], padding=True, return_tensors=\"pt\").input_ids # (batch_size, largest_sent)\n",
    "decoder_input_ids = tokenizer([\"\" for _ in range(5)], padding=True, return_tensors=\"pt\").input_ids # (batch_size, largest_sent)\n",
    "\n",
    "print(input_ids.shape, decoder_input_ids.shape)\n",
    "out = lang_model(input_ids=input_ids, decoder_input_ids=decoder_input_ids)\n",
    "print(out.encoder_last_hidden_state.shape)"
   ]
  },
  {
   "cell_type": "code",
   "execution_count": 3,
   "id": "717b454a",
   "metadata": {},
   "outputs": [
    {
     "data": {
      "text/plain": [
       "18.562374456913094"
      ]
     },
     "execution_count": 3,
     "metadata": {},
     "output_type": "execute_result"
    }
   ],
   "source": [
    "# Define F(X) as in the paper \n",
    "vis_model.num_parameters() / lang_model.num_parameters() * 100"
   ]
  },
  {
   "cell_type": "code",
   "execution_count": 8,
   "id": "6c2ea107",
   "metadata": {},
   "outputs": [
    {
     "data": {
      "text/plain": [
       "T5Config {\n",
       "  \"_name_or_path\": \"t5-base\",\n",
       "  \"architectures\": [\n",
       "    \"T5ForConditionalGeneration\"\n",
       "  ],\n",
       "  \"d_ff\": 3072,\n",
       "  \"d_kv\": 64,\n",
       "  \"d_model\": 768,\n",
       "  \"decoder_start_token_id\": 0,\n",
       "  \"dense_act_fn\": \"relu\",\n",
       "  \"dropout_rate\": 0.1,\n",
       "  \"eos_token_id\": 1,\n",
       "  \"feed_forward_proj\": \"relu\",\n",
       "  \"initializer_factor\": 1.0,\n",
       "  \"is_encoder_decoder\": true,\n",
       "  \"is_gated_act\": false,\n",
       "  \"layer_norm_epsilon\": 1e-06,\n",
       "  \"model_type\": \"t5\",\n",
       "  \"n_positions\": 512,\n",
       "  \"num_decoder_layers\": 12,\n",
       "  \"num_heads\": 12,\n",
       "  \"num_layers\": 12,\n",
       "  \"output_past\": true,\n",
       "  \"pad_token_id\": 0,\n",
       "  \"relative_attention_max_distance\": 128,\n",
       "  \"relative_attention_num_buckets\": 32,\n",
       "  \"task_specific_params\": {\n",
       "    \"summarization\": {\n",
       "      \"early_stopping\": true,\n",
       "      \"length_penalty\": 2.0,\n",
       "      \"max_length\": 200,\n",
       "      \"min_length\": 30,\n",
       "      \"no_repeat_ngram_size\": 3,\n",
       "      \"num_beams\": 4,\n",
       "      \"prefix\": \"summarize: \"\n",
       "    },\n",
       "    \"translation_en_to_de\": {\n",
       "      \"early_stopping\": true,\n",
       "      \"max_length\": 300,\n",
       "      \"num_beams\": 4,\n",
       "      \"prefix\": \"translate English to German: \"\n",
       "    },\n",
       "    \"translation_en_to_fr\": {\n",
       "      \"early_stopping\": true,\n",
       "      \"max_length\": 300,\n",
       "      \"num_beams\": 4,\n",
       "      \"prefix\": \"translate English to French: \"\n",
       "    },\n",
       "    \"translation_en_to_ro\": {\n",
       "      \"early_stopping\": true,\n",
       "      \"max_length\": 300,\n",
       "      \"num_beams\": 4,\n",
       "      \"prefix\": \"translate English to Romanian: \"\n",
       "    }\n",
       "  },\n",
       "  \"transformers_version\": \"4.26.1\",\n",
       "  \"use_cache\": true,\n",
       "  \"vocab_size\": 32128\n",
       "}"
      ]
     },
     "execution_count": 8,
     "metadata": {},
     "output_type": "execute_result"
    }
   ],
   "source": [
    "lang_model.config"
   ]
  },
  {
   "cell_type": "code",
   "execution_count": 5,
   "id": "8ae59126",
   "metadata": {},
   "outputs": [
    {
     "name": "stderr",
     "output_type": "stream",
     "text": [
      "Found cached dataset parquet (/home/bxliu2000/.cache/huggingface/datasets/derek-thomas___parquet/derek-thomas--ScienceQA-ca4903a3b5795914/0.0.0/2a3b91fbd88a2c90d1dbbb32b460cf621d31bd5b05b934492fdef7d8d6f236ec)\n"
     ]
    }
   ],
   "source": [
    "dataset = load_dataset(\"derek-thomas/ScienceQA\", split=\"train\")"
   ]
  },
  {
   "cell_type": "code",
   "execution_count": 28,
   "id": "c6b210ce",
   "metadata": {},
   "outputs": [
    {
     "data": {
      "text/plain": [
       "[<PIL.PngImagePlugin.PngImageFile image mode=RGB size=750x429>,\n",
       " <PIL.PngImagePlugin.PngImageFile image mode=RGB size=302x232>,\n",
       " <PIL.PngImagePlugin.PngImageFile image mode=RGB size=302x232>,\n",
       " None,\n",
       " None]"
      ]
     },
     "execution_count": 28,
     "metadata": {},
     "output_type": "execute_result"
    }
   ],
   "source": [
    "dataset[0:5]['image']"
   ]
  },
  {
   "cell_type": "code",
   "execution_count": 59,
   "id": "e78b723c",
   "metadata": {},
   "outputs": [
    {
     "data": {
      "text/plain": [
       "('269.0 Million', 269201856)"
      ]
     },
     "execution_count": 59,
     "metadata": {},
     "output_type": "execute_result"
    }
   ],
   "source": [
    "import torch.nn as nn\n",
    "\n",
    "class MultiModal(nn.Module):\n",
    "    \n",
    "    def __init__(self, lang_model, vis_model, vis_processor):\n",
    "        super(MultiModal, self).__init__()\n",
    "        self.lang_encoder = lang_model.get_encoder()\n",
    "        self.vis_model = vis_model\n",
    "        self.vis_processor = vis_processor\n",
    "        self.decoder = lang_model.get_decoder()\n",
    "        \n",
    "        self.lang_d_model = lang_model.config.d_model\n",
    "        self.vis_d_model = vis_model.config.d_model\n",
    "        self.num_heads = 1\n",
    "        \n",
    "        self.vis_head = nn.Linear(self.vis_d_model, self.lang_d_model)\n",
    "        self.H_attn_vis = nn.MultiheadAttention(self.lang_d_model, self.num_heads)\n",
    "        self.H_vis_attn = nn.MultiheadAttention(self.lang_d_model, self.num_heads)\n",
    "        self.sigmoid = nn.Sigmoid()\n",
    "        \n",
    "    def forward(self, X_lang, decoder_input_ids, X_vis):\n",
    "        enc_toks = self.lang_encoder(input_ids=X_lang).last_hidden_state # encode natural prompt.\n",
    "        \n",
    "        # shitty for loop for now\n",
    "        enc_pat = torch.zeros((X_lang.shape[0], self.lang_d_model))\n",
    "        for i, x in enumerate(X_vis):\n",
    "            if x:\n",
    "                vis_toks = self.vis_processor(x, return_tensors='pt') # (batch, token_size)\n",
    "                vis_out = self.vis_model(**vis_toks)\n",
    "                print(vis_out.encoder_last_hidden_state.shape) # why is this (1k, 256)?\n",
    "                tmp = self.vis_head(vis_out.encoder_last_hidden_state)\n",
    "                print(enc_pat.shape, tmp.shape)\n",
    "                enc_pat[i] = tmp[0]  # encode image patches\n",
    "        print(enc_toks.shape, enc_pat.shape)\n",
    "        \n",
    "        H_attn_vis = self.H_attn_vis(enc_toks, enc_pat, enc_pat) # Calculate two heads\n",
    "        H_vis_attn = self.H_vis_attn(enc_pat, enc_toks, enc_toks) # Calculate two heads\n",
    "        \n",
    "        lmbda = self.sigmoid(H_attn_vis + H_vis_attn)\n",
    "        H_fuse = lmbda * H_vis_attn + (1-lmbda) * H_attn_vis\n",
    "        \n",
    "        out = self.decoder(decoder_input_ids=decoder_input_ids, encoder_hidden_state=H_fuse)\n",
    "        return out\n",
    "    \n",
    "    def num_params(self):\n",
    "        num = sum(p.numel() for p in self.parameters())\n",
    "        return f\"{num // 1e6} Million\", num\n",
    "\n",
    "    \n",
    "multimodal_model = MultiModal(lang_model, vis_model, processor)\n",
    "\n",
    "multimodal_model.num_params()"
   ]
  },
  {
   "cell_type": "code",
   "execution_count": 60,
   "id": "e2b70668",
   "metadata": {},
   "outputs": [
    {
     "name": "stdout",
     "output_type": "stream",
     "text": [
      "torch.Size([1, 1008, 256])\n",
      "torch.Size([5, 768]) torch.Size([1, 1008, 768])\n"
     ]
    },
    {
     "ename": "RuntimeError",
     "evalue": "expand(torch.FloatTensor{[1008, 768]}, size=[768]): the number of sizes provided (1) must be greater or equal to the number of dimensions in the tensor (2)",
     "output_type": "error",
     "traceback": [
      "\u001b[0;31m---------------------------------------------------------------------------\u001b[0m",
      "\u001b[0;31mRuntimeError\u001b[0m                              Traceback (most recent call last)",
      "Cell \u001b[0;32mIn[60], line 8\u001b[0m\n\u001b[1;32m      3\u001b[0m X_vis \u001b[38;5;241m=\u001b[39m dataset[\u001b[38;5;241m0\u001b[39m:\u001b[38;5;241m5\u001b[39m][\u001b[38;5;124m'\u001b[39m\u001b[38;5;124mimage\u001b[39m\u001b[38;5;124m'\u001b[39m]\n\u001b[1;32m      4\u001b[0m \u001b[38;5;66;03m# model.to(device)\u001b[39;00m\n\u001b[1;32m      5\u001b[0m \u001b[38;5;66;03m# input_ids = input_ids.to(device)\u001b[39;00m\n\u001b[1;32m      6\u001b[0m \u001b[38;5;66;03m# decoder_input_ids = decoder_input_ids.to(device)\u001b[39;00m\n\u001b[0;32m----> 8\u001b[0m out \u001b[38;5;241m=\u001b[39m \u001b[43mmultimodal_model\u001b[49m\u001b[43m(\u001b[49m\u001b[43minput_ids\u001b[49m\u001b[43m,\u001b[49m\u001b[43m \u001b[49m\u001b[43mdecoder_input_ids\u001b[49m\u001b[43m,\u001b[49m\u001b[43m \u001b[49m\u001b[43mX_vis\u001b[49m\u001b[43m)\u001b[49m\n",
      "File \u001b[0;32m~/.local/lib/python3.10/site-packages/torch/nn/modules/module.py:1194\u001b[0m, in \u001b[0;36mModule._call_impl\u001b[0;34m(self, *input, **kwargs)\u001b[0m\n\u001b[1;32m   1190\u001b[0m \u001b[38;5;66;03m# If we don't have any hooks, we want to skip the rest of the logic in\u001b[39;00m\n\u001b[1;32m   1191\u001b[0m \u001b[38;5;66;03m# this function, and just call forward.\u001b[39;00m\n\u001b[1;32m   1192\u001b[0m \u001b[38;5;28;01mif\u001b[39;00m \u001b[38;5;129;01mnot\u001b[39;00m (\u001b[38;5;28mself\u001b[39m\u001b[38;5;241m.\u001b[39m_backward_hooks \u001b[38;5;129;01mor\u001b[39;00m \u001b[38;5;28mself\u001b[39m\u001b[38;5;241m.\u001b[39m_forward_hooks \u001b[38;5;129;01mor\u001b[39;00m \u001b[38;5;28mself\u001b[39m\u001b[38;5;241m.\u001b[39m_forward_pre_hooks \u001b[38;5;129;01mor\u001b[39;00m _global_backward_hooks\n\u001b[1;32m   1193\u001b[0m         \u001b[38;5;129;01mor\u001b[39;00m _global_forward_hooks \u001b[38;5;129;01mor\u001b[39;00m _global_forward_pre_hooks):\n\u001b[0;32m-> 1194\u001b[0m     \u001b[38;5;28;01mreturn\u001b[39;00m \u001b[43mforward_call\u001b[49m\u001b[43m(\u001b[49m\u001b[38;5;241;43m*\u001b[39;49m\u001b[38;5;28;43minput\u001b[39;49m\u001b[43m,\u001b[49m\u001b[43m \u001b[49m\u001b[38;5;241;43m*\u001b[39;49m\u001b[38;5;241;43m*\u001b[39;49m\u001b[43mkwargs\u001b[49m\u001b[43m)\u001b[49m\n\u001b[1;32m   1195\u001b[0m \u001b[38;5;66;03m# Do not call functions when jit is used\u001b[39;00m\n\u001b[1;32m   1196\u001b[0m full_backward_hooks, non_full_backward_hooks \u001b[38;5;241m=\u001b[39m [], []\n",
      "Cell \u001b[0;32mIn[59], line 33\u001b[0m, in \u001b[0;36mMultiModal.forward\u001b[0;34m(self, X_lang, decoder_input_ids, X_vis)\u001b[0m\n\u001b[1;32m     31\u001b[0m         tmp \u001b[38;5;241m=\u001b[39m \u001b[38;5;28mself\u001b[39m\u001b[38;5;241m.\u001b[39mvis_head(vis_out\u001b[38;5;241m.\u001b[39mencoder_last_hidden_state)\n\u001b[1;32m     32\u001b[0m         \u001b[38;5;28mprint\u001b[39m(enc_pat\u001b[38;5;241m.\u001b[39mshape, tmp\u001b[38;5;241m.\u001b[39mshape)\n\u001b[0;32m---> 33\u001b[0m         \u001b[43menc_pat\u001b[49m\u001b[43m[\u001b[49m\u001b[43mi\u001b[49m\u001b[43m]\u001b[49m \u001b[38;5;241m=\u001b[39m tmp[\u001b[38;5;241m0\u001b[39m]  \u001b[38;5;66;03m# encode image patches\u001b[39;00m\n\u001b[1;32m     34\u001b[0m \u001b[38;5;28mprint\u001b[39m(enc_toks\u001b[38;5;241m.\u001b[39mshape, enc_pat\u001b[38;5;241m.\u001b[39mshape)\n\u001b[1;32m     36\u001b[0m H_attn_vis \u001b[38;5;241m=\u001b[39m \u001b[38;5;28mself\u001b[39m\u001b[38;5;241m.\u001b[39mH_attn_vis(enc_toks, enc_pat, enc_pat) \u001b[38;5;66;03m# Calculate two heads\u001b[39;00m\n",
      "\u001b[0;31mRuntimeError\u001b[0m: expand(torch.FloatTensor{[1008, 768]}, size=[768]): the number of sizes provided (1) must be greater or equal to the number of dimensions in the tensor (2)"
     ]
    }
   ],
   "source": [
    "input_ids = tokenizer(dataset[0:5]['question'], padding=True, return_tensors=\"pt\").input_ids # (batch_size, largest_sent)\n",
    "decoder_input_ids = tokenizer([\"\" for _ in range(5)], return_tensors=\"pt\").input_ids\n",
    "X_vis = dataset[0:5]['image']\n",
    "# model.to(device)\n",
    "# input_ids = input_ids.to(device)\n",
    "# decoder_input_ids = decoder_input_ids.to(device)\n",
    "\n",
    "out = multimodal_model(input_ids, decoder_input_ids, X_vis)"
   ]
  },
  {
   "cell_type": "code",
   "execution_count": 21,
   "id": "b218b093",
   "metadata": {},
   "outputs": [
    {
     "name": "stdout",
     "output_type": "stream",
     "text": [
      "torch.Size([1, 1, 768])\n"
     ]
    }
   ],
   "source": [
    "print(out.last_hidden_state.shape)"
   ]
  },
  {
   "cell_type": "code",
   "execution_count": 23,
   "id": "e88ea6ef",
   "metadata": {},
   "outputs": [],
   "source": [
    "lang_encoder = model.get_encoder()"
   ]
  },
  {
   "cell_type": "code",
   "execution_count": 27,
   "id": "eaa73f52",
   "metadata": {},
   "outputs": [
    {
     "data": {
      "text/plain": [
       "torch.Size([1, 11, 768])"
      ]
     },
     "execution_count": 27,
     "metadata": {},
     "output_type": "execute_result"
    }
   ],
   "source": [
    "lang_encoder(input_ids=input_ids).last_hidden_state.shape"
   ]
  },
  {
   "cell_type": "code",
   "execution_count": 28,
   "id": "703b3003",
   "metadata": {},
   "outputs": [],
   "source": [
    "from datasets import load_dataset"
   ]
  },
  {
   "cell_type": "code",
   "execution_count": 55,
   "id": "8ed66e8c",
   "metadata": {},
   "outputs": [
    {
     "data": {
      "image/png": "[encoded data removed]",
      "text/plain": [
       "<PIL.PngImagePlugin.PngImageFile image mode=RGB size=302x232>"
      ]
     },
     "execution_count": 55,
     "metadata": {},
     "output_type": "execute_result"
    }
   ],
   "source": [
    "dataset[1]['image']"
   ]
  },
  {
   "cell_type": "code",
   "execution_count": 95,
   "id": "76d174ef",
   "metadata": {},
   "outputs": [
    {
     "data": {
      "text/plain": [
       "[<PIL.PngImagePlugin.PngImageFile image mode=RGB size=302x232>]"
      ]
     },
     "execution_count": 95,
     "metadata": {},
     "output_type": "execute_result"
    }
   ],
   "source": [
    "raw_images = [img for img in dataset[1:2]['image'] if img]\n",
    "raw_images"
   ]
  },
  {
   "cell_type": "code",
   "execution_count": 96,
   "id": "d4402aa4",
   "metadata": {},
   "outputs": [
    {
     "data": {
      "text/plain": [
       "torch.Size([1, 3, 800, 1041])"
      ]
     },
     "execution_count": 96,
     "metadata": {},
     "output_type": "execute_result"
    }
   ],
   "source": [
    "X = processor(images=raw_images, return_tensors=\"pt\")\n",
    "X['pixel_values'].shape"
   ]
  },
  {
   "cell_type": "code",
   "execution_count": 84,
   "id": "7eafa9c6",
   "metadata": {},
   "outputs": [
    {
     "data": {
      "text/plain": [
       "torch.Size([5, 950, 256])"
      ]
     },
     "execution_count": 84,
     "metadata": {},
     "output_type": "execute_result"
    }
   ],
   "source": [
    "vision_model(**X).encoder_last_hidden_state.shape"
   ]
  },
  {
   "cell_type": "code",
   "execution_count": 61,
   "id": "a139da6a",
   "metadata": {},
   "outputs": [
    {
     "data": {
      "text/plain": [
       "device(type='cpu')"
      ]
     },
     "execution_count": 61,
     "metadata": {},
     "output_type": "execute_result"
    }
   ],
   "source": [
    "vision_model.device"
   ]
  },
  {
   "cell_type": "code",
   "execution_count": null,
   "id": "0a7701dc",
   "metadata": {},
   "outputs": [],
   "source": []
  }
 ],
 "metadata": {
  "kernelspec": {
   "display_name": "Python 3 (ipykernel)",
   "language": "python",
   "name": "python3"
  },
  "language_info": {
   "codemirror_mode": {
    "name": "ipython",
    "version": 3
   },
   "file_extension": ".py",
   "mimetype": "text/x-python",
   "name": "python",
   "nbconvert_exporter": "python",
   "pygments_lexer": "ipython3",
   "version": "3.10.6"
  }
 },
 "nbformat": 4,
 "nbformat_minor": 5
}
